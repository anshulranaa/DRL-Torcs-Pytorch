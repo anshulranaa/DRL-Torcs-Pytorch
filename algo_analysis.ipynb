{
 "cells": [
  {
   "cell_type": "code",
   "execution_count": 13,
   "metadata": {},
   "outputs": [
    {
     "name": "stdout",
     "output_type": "stream",
     "text": [
      "loading model\n",
      "cannot find the model\n"
     ]
    },
    {
     "name": "stderr",
     "output_type": "stream",
     "text": [
      "sh: 0: cannot open autostart.sh: No such file\n"
     ]
    },
    {
     "name": "stdout",
     "output_type": "stream",
     "text": [
      "\n",
      "Fuel consumption disabled!\n",
      "Laptime limit disabled!\n",
      "Visual Properties Report\n",
      "------------------------\n",
      "Compatibility mode, properties unknown.\n",
      "Waiting for server on 3101............\n",
      "Count Down : 5\n",
      "Waiting for server on 3101............\n",
      "Count Down : 4\n"
     ]
    },
    {
     "ename": "KeyboardInterrupt",
     "evalue": "",
     "output_type": "error",
     "traceback": [
      "\u001b[0;31m---------------------------------------------------------------------------\u001b[0m",
      "\u001b[0;31mKeyboardInterrupt\u001b[0m                         Traceback (most recent call last)",
      "File \u001b[0;32m~/Desktop/rl/Torcs-Pytorch/DDPG/ddpg.py:80\u001b[0m\n\u001b[1;32m     77\u001b[0m \u001b[38;5;28;01mfor\u001b[39;00m i \u001b[38;5;129;01min\u001b[39;00m \u001b[38;5;28mrange\u001b[39m(\u001b[38;5;241m500\u001b[39m):\n\u001b[1;32m     79\u001b[0m     \u001b[38;5;28;01mif\u001b[39;00m np\u001b[38;5;241m.\u001b[39mmod(i, \u001b[38;5;241m3\u001b[39m) \u001b[38;5;241m==\u001b[39m \u001b[38;5;241m0\u001b[39m:\n\u001b[0;32m---> 80\u001b[0m         ob,distFromStart \u001b[38;5;241m=\u001b[39m \u001b[43menv\u001b[49m\u001b[38;5;241;43m.\u001b[39;49m\u001b[43mreset\u001b[49m\u001b[43m(\u001b[49m\u001b[43mrelaunch\u001b[49m\u001b[43m \u001b[49m\u001b[38;5;241;43m=\u001b[39;49m\u001b[43m \u001b[49m\u001b[38;5;28;43;01mTrue\u001b[39;49;00m\u001b[43m)\u001b[49m\n\u001b[1;32m     81\u001b[0m     \u001b[38;5;28;01melse\u001b[39;00m:\n\u001b[1;32m     82\u001b[0m         ob,distFromStart \u001b[38;5;241m=\u001b[39m env\u001b[38;5;241m.\u001b[39mreset()\n",
      "File \u001b[0;32m~/Desktop/rl/Torcs-Pytorch/DDPG/gym_torcs.py:187\u001b[0m, in \u001b[0;36mTorcsEnv.reset\u001b[0;34m(self, relaunch)\u001b[0m\n\u001b[1;32m    184\u001b[0m         \u001b[38;5;28mprint\u001b[39m(\u001b[38;5;124m\"\u001b[39m\u001b[38;5;124m### TORCS is RELAUNCHED ###\u001b[39m\u001b[38;5;124m\"\u001b[39m)\n\u001b[1;32m    186\u001b[0m \u001b[38;5;66;03m# Modify here if you use multiple tracks in the environment\u001b[39;00m\n\u001b[0;32m--> 187\u001b[0m \u001b[38;5;28mself\u001b[39m\u001b[38;5;241m.\u001b[39mclient \u001b[38;5;241m=\u001b[39m \u001b[43msnakeoil3\u001b[49m\u001b[38;5;241;43m.\u001b[39;49m\u001b[43mClient\u001b[49m\u001b[43m(\u001b[49m\u001b[43mp\u001b[49m\u001b[38;5;241;43m=\u001b[39;49m\u001b[38;5;241;43m3101\u001b[39;49m\u001b[43m,\u001b[49m\u001b[43m \u001b[49m\u001b[43mvision\u001b[49m\u001b[38;5;241;43m=\u001b[39;49m\u001b[38;5;28;43mself\u001b[39;49m\u001b[38;5;241;43m.\u001b[39;49m\u001b[43mvision\u001b[49m\u001b[43m)\u001b[49m  \u001b[38;5;66;03m# Open new UDP in vtorcs\u001b[39;00m\n\u001b[1;32m    188\u001b[0m \u001b[38;5;28mself\u001b[39m\u001b[38;5;241m.\u001b[39mclient\u001b[38;5;241m.\u001b[39mMAX_STEPS \u001b[38;5;241m=\u001b[39m np\u001b[38;5;241m.\u001b[39minf\n\u001b[1;32m    190\u001b[0m client \u001b[38;5;241m=\u001b[39m \u001b[38;5;28mself\u001b[39m\u001b[38;5;241m.\u001b[39mclient\n",
      "File \u001b[0;32m~/Desktop/rl/Torcs-Pytorch/DDPG/snakeoil3_gym.py:141\u001b[0m, in \u001b[0;36mClient.__init__\u001b[0;34m(self, H, p, i, e, t, s, d, vision)\u001b[0m\n\u001b[1;32m    139\u001b[0m \u001b[38;5;28mself\u001b[39m\u001b[38;5;241m.\u001b[39mS\u001b[38;5;241m=\u001b[39m ServerState()\n\u001b[1;32m    140\u001b[0m \u001b[38;5;28mself\u001b[39m\u001b[38;5;241m.\u001b[39mR\u001b[38;5;241m=\u001b[39m DriverAction()\n\u001b[0;32m--> 141\u001b[0m \u001b[38;5;28;43mself\u001b[39;49m\u001b[38;5;241;43m.\u001b[39;49m\u001b[43msetup_connection\u001b[49m\u001b[43m(\u001b[49m\u001b[43m)\u001b[49m\n",
      "File \u001b[0;32m~/Desktop/rl/Torcs-Pytorch/DDPG/snakeoil3_gym.py:168\u001b[0m, in \u001b[0;36mClient.setup_connection\u001b[0;34m(self)\u001b[0m\n\u001b[1;32m    166\u001b[0m sockdata\u001b[38;5;241m=\u001b[39m \u001b[38;5;28mstr\u001b[39m()\n\u001b[1;32m    167\u001b[0m \u001b[38;5;28;01mtry\u001b[39;00m:\n\u001b[0;32m--> 168\u001b[0m     sockdata,addr\u001b[38;5;241m=\u001b[39m \u001b[38;5;28;43mself\u001b[39;49m\u001b[38;5;241;43m.\u001b[39;49m\u001b[43mso\u001b[49m\u001b[38;5;241;43m.\u001b[39;49m\u001b[43mrecvfrom\u001b[49m\u001b[43m(\u001b[49m\u001b[43mdata_size\u001b[49m\u001b[43m)\u001b[49m\n\u001b[1;32m    169\u001b[0m     sockdata \u001b[38;5;241m=\u001b[39m sockdata\u001b[38;5;241m.\u001b[39mdecode(\u001b[38;5;124m'\u001b[39m\u001b[38;5;124mutf-8\u001b[39m\u001b[38;5;124m'\u001b[39m)\n\u001b[1;32m    170\u001b[0m \u001b[38;5;28;01mexcept\u001b[39;00m socket\u001b[38;5;241m.\u001b[39merror \u001b[38;5;28;01mas\u001b[39;00m emsg:\n",
      "\u001b[0;31mKeyboardInterrupt\u001b[0m: "
     ]
    }
   ],
   "source": [
    "# DDPG Analysis \n",
    "%run DDPG/ddpg.py\n",
    "ddpg_dist =[]\n",
    "with open(\"DDPG/distances.txt\",\"r\") as f:\n",
    "    for line in f :\n",
    "        lines = line.split(\" \")\n",
    "        ddpg_dist.append(float(lines[1].split(\"\\n\")[0]))\n"
   ]
  },
  {
   "cell_type": "code",
   "execution_count": null,
   "metadata": {},
   "outputs": [],
   "source": [
    "%run DQN/dqn.py\n",
    "dqn_dist =[]\n",
    "with open(\"DQN/distances.txt\",\"r\") as f:\n",
    "    for line in f :\n",
    "        lines = line.split(\" \")\n",
    "        dqn_dist.append(float(lines[1].split(\"\\n\")[0]))"
   ]
  },
  {
   "cell_type": "code",
   "execution_count": null,
   "metadata": {},
   "outputs": [],
   "source": [
    "%run DDPG-PPO/ddpg_ppo.py\n",
    "ddpg_ppo_dist =[]\n",
    "with open(\"DDPG-PPO/distances.txt\",\"r\") as f:\n",
    "    for line in f :\n",
    "        lines = line.split(\" \")\n",
    "        ddpg_ppo_dist.append(float(lines[1].split(\"\\n\")[0]))"
   ]
  },
  {
   "cell_type": "code",
   "execution_count": null,
   "metadata": {},
   "outputs": [],
   "source": [
    "%run PPO/ppo_run.py\n",
    "ppo_dist = []\n",
    "with open(\"PPO/distances.txt\",\"r\") as f:\n",
    "    for line in f:\n",
    "        lines = line.split(\" \")\n",
    "        ppo_dist.append((float(lines[1].split(\"\\n\")[0])))"
   ]
  },
  {
   "cell_type": "code",
   "execution_count": null,
   "metadata": {},
   "outputs": [],
   "source": [
    "import matplotlib.pyplot as plt\n",
    "\n",
    "# Assuming ddpg_dist, dqn_dist, ddpg_ppo_dist, and ppo_dist are already populated from your files\n",
    "\n",
    "# Create a sequence of episode numbers based on the length of the distance lists\n",
    "episodes = range(1, len(ddpg_dist) + 1)\n",
    "\n",
    "# Plotting the distances for DDPG\n",
    "plt.plot(episodes, ddpg_dist, label='DDPG Distance', marker='o', linestyle='-')\n",
    "\n",
    "# Plotting the distances for DQN\n",
    "plt.plot(episodes, dqn_dist, label='DQN Distance', marker='x', linestyle='-')\n",
    "\n",
    "# Plotting the distances for DDPG-PPO\n",
    "plt.plot(episodes, ddpg_ppo_dist, label='DDPG-PPO Distance', marker='^', linestyle='--')\n",
    "\n",
    "# Plotting the distances for PPO\n",
    "plt.plot(episodes, ppo_dist, label='PPO Distance', marker='s', linestyle=':')\n",
    "\n",
    "# Adding titles and labels\n",
    "plt.title('Distance Travelled per Episode')\n",
    "plt.xlabel('Episode')\n",
    "plt.ylabel('Distance')\n",
    "\n",
    "# Adding a legend to differentiate the lines\n",
    "plt.legend()\n",
    "\n",
    "# Show the plot\n",
    "plt.show()\n"
   ]
  }
 ],
 "metadata": {
  "kernelspec": {
   "display_name": "rl",
   "language": "python",
   "name": "python3"
  },
  "language_info": {
   "codemirror_mode": {
    "name": "ipython",
    "version": 3
   },
   "file_extension": ".py",
   "mimetype": "text/x-python",
   "name": "python",
   "nbconvert_exporter": "python",
   "pygments_lexer": "ipython3",
   "version": "3.9.19"
  }
 },
 "nbformat": 4,
 "nbformat_minor": 2
}
